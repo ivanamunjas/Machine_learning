{
 "cells": [
  {
   "cell_type": "code",
   "execution_count": 38,
   "metadata": {},
   "outputs": [],
   "source": [
    "import pandas as pd \n",
    "from sklearn.linear_model import LinearRegression\n",
    "from sklearn.model_selection import train_test_split\n",
    "from sklearn.metrics import mean_squared_error\n",
    "from sklearn.metrics import accuracy_score\n",
    "from matplotlib import pyplot as plt\n",
    "import numpy as np\n",
    "%matplotlib inline\n",
    "\n",
    "data = pd.read_csv(\"multiclass_data.csv\", header = None)\n",
    "\n",
    "num_labels = 3\n",
    "\n",
    "X = data.loc[:, 0:4]\n",
    "y = data.loc[:, 5]\n",
    "\n",
    "X = np.array(X)\n",
    "y = np.array(y)\n",
    "\n",
    "X = (X - X.mean())/X.std()\n",
    "\n",
    "X_train, X_test, y_train, y_test = train_test_split(X, y, test_size=0.33, random_state=42)\n",
    "X_train = np.c_[np.ones(len(X_train),dtype='int64'),X_train]\n",
    "X_test = np.c_[np.ones(len(X_test),dtype='int64'),X_test]"
   ]
  },
  {
   "cell_type": "markdown",
   "metadata": {},
   "source": [
    "## My Logistic Regression"
   ]
  },
  {
   "cell_type": "code",
   "execution_count": 39,
   "metadata": {},
   "outputs": [],
   "source": [
    "def sigmoid(X, weight):\n",
    "    z = np.dot(X, weight)\n",
    "    return 1 / (1 + np.exp(-z))\n",
    "\n",
    "def loss(h, y):\n",
    "    return (-y * np.log(h) - (1 - y) * np.log(1 - h)).mean()\n",
    "\n",
    "def gradient_descent(X, h, y):\n",
    "    return np.dot(X.T, (y - h)) / y.shape[0]\n",
    "\n",
    "def update_weight_loss(weight, learning_rate, gradient):\n",
    "    return weight + learning_rate * gradient\n",
    "\n",
    "def accuracy_metric(y_pred, y_test):\n",
    "    correct = 0\n",
    "    for i in range(len(y_test)):\n",
    "        if y_test[i] == y_pred[i]:\n",
    "            correct += 1\n",
    "    return correct / float(len(y_test))"
   ]
  },
  {
   "cell_type": "markdown",
   "metadata": {},
   "source": [
    "__Different learning rates__"
   ]
  },
  {
   "cell_type": "code",
   "execution_count": 40,
   "metadata": {},
   "outputs": [
    {
     "name": "stdout",
     "output_type": "stream",
     "text": [
      "Learning rate: 0.1\n",
      "Learning rate: 0.5\n",
      "Learning rate: 2\n"
     ]
    },
    {
     "data": {
      "text/plain": [
       "<matplotlib.legend.Legend at 0x205ee730940>"
      ]
     },
     "execution_count": 40,
     "metadata": {},
     "output_type": "execute_result"
    },
    {
     "data": {
      "image/png": "[encoded data removed]",
      "text/plain": [
       "<Figure size 432x288 with 1 Axes>"
      ]
     },
     "metadata": {},
     "output_type": "display_data"
    }
   ],
   "source": [
    "alpha = [0.1, 0.5, 2]\n",
    "num_iter = 1000\n",
    "classifiers_train = np.zeros((num_labels, len(y_train)))\n",
    "classifiers_test = np.zeros((num_labels, len(y_test)))\n",
    "\n",
    "plt.figure()\n",
    "\n",
    "\n",
    "for a in alpha:\n",
    "    label = 0\n",
    "    print(\"Learning rate: {}\".format(a))\n",
    "    \n",
    "    y_train_ = np.where(y_train == label, 1, 0)\n",
    "    y_test_ = np.where(y_test == label, 1, 0)\n",
    "    \n",
    "    theta = np.zeros(X_train.shape[1])\n",
    "    loss_ = []\n",
    "    for i in range(num_iter):\n",
    "        h = sigmoid(X_train, theta)\n",
    "        gradient = gradient_descent(X_train, h, y_train_)\n",
    "        theta = update_weight_loss(theta, a, gradient)\n",
    "        loss_.append(loss(h,y_train_))\n",
    "    \n",
    "    plt.plot(np.linspace(0,len(loss_),len(loss_)), loss_)\n",
    "    \n",
    "    \n",
    "    result_train = sigmoid(X_train, theta)\n",
    "    result_test = sigmoid(X_test, theta)\n",
    "    \n",
    "    classifiers_train[label, :] = result_train\n",
    "    classifiers_test[label, :] = result_test\n",
    "    \n",
    "plt.legend([alpha[0], alpha[1], alpha[2]])"
   ]
  },
  {
   "cell_type": "code",
   "execution_count": 41,
   "metadata": {},
   "outputs": [
    {
     "name": "stdout",
     "output_type": "stream",
     "text": [
      "0 vs all \n",
      "\n",
      "1 vs all \n",
      "\n",
      "2 vs all \n",
      "\n"
     ]
    }
   ],
   "source": [
    "num_iter = 10000\n",
    "classifiers_train = np.zeros((num_labels, len(y_train)))\n",
    "classifiers_test = np.zeros((num_labels, len(y_test)))\n",
    "\n",
    "for label in range(0, num_labels):\n",
    "    print(\"{} vs all \\n\".format(label))\n",
    "    \n",
    "    y_train_ = np.where(y_train == label, 1, 0)\n",
    "    y_test_ = np.where(y_test == label, 1, 0)\n",
    "    \n",
    "    theta = np.zeros(X_train.shape[1])\n",
    "    \n",
    "    for i in range(num_iter):\n",
    "        h = sigmoid(X_train, theta)\n",
    "        gradient = gradient_descent(X_train, h, y_train_)\n",
    "        theta = update_weight_loss(theta, 1, gradient)\n",
    "    \n",
    "    result_train = sigmoid(X_train, theta)\n",
    "    result_test = sigmoid(X_test, theta)\n",
    "    \n",
    "    classifiers_train[label, :] = result_train\n",
    "    classifiers_test[label, :] = result_test"
   ]
  },
  {
   "cell_type": "code",
   "execution_count": 42,
   "metadata": {},
   "outputs": [
    {
     "name": "stdout",
     "output_type": "stream",
     "text": [
      "Tačnost na obučavajućem skupu:  0.7226890756302521\n",
      "Tačnost na testirajućem skupu:  0.8135593220338984\n"
     ]
    }
   ],
   "source": [
    "predictions_train = classifiers_train.argmax(axis=0)\n",
    "predictions_test = classifiers_test.argmax(axis=0)\n",
    "\n",
    "print('Tačnost na obučavajućem skupu: ', accuracy_metric(predictions_train, y_train))\n",
    "print('Tačnost na testirajućem skupu: ', accuracy_metric(predictions_test, y_test))"
   ]
  },
  {
   "cell_type": "markdown",
   "metadata": {},
   "source": [
    "## Built-in Logistic Regression"
   ]
  },
  {
   "cell_type": "code",
   "execution_count": 43,
   "metadata": {},
   "outputs": [
    {
     "name": "stdout",
     "output_type": "stream",
     "text": [
      "Tačnost na obučavajućem skupu:  0.6722689075630253\n",
      "Tačnost na testirajućem skupu:  0.711864406779661\n"
     ]
    },
    {
     "name": "stderr",
     "output_type": "stream",
     "text": [
      "C:\\Users\\ASUS\\AppData\\Roaming\\Python\\Python36\\site-packages\\sklearn\\linear_model\\logistic.py:432: FutureWarning: Default solver will be changed to 'lbfgs' in 0.22. Specify a solver to silence this warning.\n",
      "  FutureWarning)\n"
     ]
    }
   ],
   "source": [
    "from sklearn.linear_model import LogisticRegression\n",
    "from sklearn.metrics import accuracy_score\n",
    "\n",
    "lr = LogisticRegression(multi_class = 'ovr')\n",
    "lr.fit(X_train, y_train)\n",
    "\n",
    "y_pred_train = lr.predict(X_train)\n",
    "y_pred = lr.predict(X_test)\n",
    "\n",
    "print('Tačnost na obučavajućem skupu: ', accuracy_score(y_pred_train, y_train))\n",
    "print('Tačnost na testirajućem skupu: ', accuracy_score(y_pred, y_test))"
   ]
  }
 ],
 "metadata": {
  "kernelspec": {
   "display_name": "Python 3",
   "language": "python",
   "name": "python3"
  },
  "language_info": {
   "codemirror_mode": {
    "name": "ipython",
    "version": 3
   },
   "file_extension": ".py",
   "mimetype": "text/x-python",
   "name": "python",
   "nbconvert_exporter": "python",
   "pygments_lexer": "ipython3",
   "version": "3.6.5"
  }
 },
 "nbformat": 4,
 "nbformat_minor": 2
}
