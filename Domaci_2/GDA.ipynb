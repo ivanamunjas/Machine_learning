{
 "cells": [
  {
   "cell_type": "code",
   "execution_count": 19,
   "metadata": {},
   "outputs": [],
   "source": [
    "import pandas as pd \n",
    "from sklearn.linear_model import LinearRegression\n",
    "from sklearn.model_selection import train_test_split\n",
    "from sklearn.metrics import mean_squared_error\n",
    "from matplotlib import pyplot as plt\n",
    "import numpy as np\n",
    "from csv import reader\n",
    "from random import seed\n",
    "from random import randrange\n",
    "from math import sqrt\n",
    "from math import exp\n",
    "from math import pi\n",
    "%matplotlib inline\n",
    "\n",
    "data = pd.read_csv(\"multiclass_data.csv\", header = None)\n",
    "\n",
    "X = data.loc[:, 0:4]\n",
    "y = data.loc[:, 5]\n",
    "\n",
    "X = np.array(X)\n",
    "y = np.array(y)\n",
    "\n",
    "X_train, X_test, y_train, y_test = train_test_split(X, y, test_size = 0.33, random_state = 42)"
   ]
  },
  {
   "cell_type": "code",
   "execution_count": 20,
   "metadata": {},
   "outputs": [],
   "source": [
    "class QuadraticDiscriminantAnalysis:\n",
    "    \n",
    "    def fit(self, X, y):\n",
    "        self.labels, self.class_priors = np.unique(y, return_counts=True)\n",
    "        self.class_priors = self.class_priors / y.shape[0]\n",
    "\n",
    "        self.Cov = []\n",
    "        self.Mu = []\n",
    "        \n",
    "        for k in range(len(self.labels)):\n",
    "            X_k = X[y==self.labels[k]]\n",
    "            self.Mu.append(np.mean(X_k, axis=0))\n",
    "            self.Cov.append(np.cov(X_k.T))\n",
    "        \n",
    "    def predict(self, X):\n",
    "        labels = []\n",
    "\n",
    "        for i in range(X.shape[0]):\n",
    "            labels.append(self.predict_sample(X[i]))\n",
    "        \n",
    "        return np.array(labels)\n",
    "\n",
    "    def predict_sample(self, X):\n",
    "        max_label = 0\n",
    "        max_likelihood = 0\n",
    "\n",
    "        for k in range(len(self.labels)):\n",
    "            likelihood  = np.exp(-1/2 * (X - self.Mu[k]).T @ np.linalg.inv(self.Cov[k]) @ (X - self.Mu[k]))\n",
    "            if likelihood > max_likelihood:\n",
    "                max_label = self.labels[k]\n",
    "                max_likelihood = likelihood\n",
    "        \n",
    "        return max_label\n",
    "    \n",
    "def accuracy_metric(y_pred, y_test):\n",
    "    correct = 0\n",
    "    for i in range(len(y_test)):\n",
    "        if y_test[i] == y_pred[i]:\n",
    "            correct += 1\n",
    "    return correct/float(len(y_test))"
   ]
  },
  {
   "cell_type": "code",
   "execution_count": 24,
   "metadata": {},
   "outputs": [
    {
     "name": "stdout",
     "output_type": "stream",
     "text": [
      "Tacnost na trenirajucem skupu je:  0.9831932773109243\n",
      "Tacnost na testirajucem skupu je:  1.0\n"
     ]
    }
   ],
   "source": [
    "qda = QuadraticDiscriminantAnalysis()\n",
    "qda.fit(X_train, y_train)\n",
    "\n",
    "y_pred_train = qda.predict(X_train)\n",
    "y_pred = qda.predict(X_test)\n",
    "\n",
    "print(\"Tacnost na trenirajucem skupu je: \", accuracy_metric(y_pred_train, y_train))\n",
    "print(\"Tacnost na testirajucem skupu je: \", accuracy_metric(y_pred, y_test))"
   ]
  },
  {
   "cell_type": "code",
   "execution_count": 25,
   "metadata": {},
   "outputs": [
    {
     "name": "stdout",
     "output_type": "stream",
     "text": [
      "Tacnost na trenirajucem skupu je:  0.9831932773109243\n",
      "Tacnost na testirajucem skupu je:  1.0\n"
     ]
    }
   ],
   "source": [
    "from sklearn.discriminant_analysis import QuadraticDiscriminantAnalysis\n",
    "\n",
    "clf = QuadraticDiscriminantAnalysis()\n",
    "clf.fit(X_train, y_train)\n",
    "\n",
    "y_pred_train = clf.predict(X_train)\n",
    "y_pred = clf.predict(X_test)\n",
    "\n",
    "print(\"Tacnost na trenirajucem skupu je: \", accuracy_metric(y_pred_train, y_train))\n",
    "print(\"Tacnost na testirajucem skupu je: \", accuracy_metric(y_pred, y_test))"
   ]
  }
 ],
 "metadata": {
  "kernelspec": {
   "display_name": "Python 3",
   "language": "python",
   "name": "python3"
  },
  "language_info": {
   "codemirror_mode": {
    "name": "ipython",
    "version": 3
   },
   "file_extension": ".py",
   "mimetype": "text/x-python",
   "name": "python",
   "nbconvert_exporter": "python",
   "pygments_lexer": "ipython3",
   "version": "3.6.5"
  }
 },
 "nbformat": 4,
 "nbformat_minor": 2
}
