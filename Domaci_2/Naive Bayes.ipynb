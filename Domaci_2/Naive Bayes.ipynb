{
 "cells": [
  {
   "cell_type": "code",
   "execution_count": 41,
   "metadata": {},
   "outputs": [],
   "source": [
    "import pandas as pd \n",
    "from sklearn.linear_model import LinearRegression\n",
    "from sklearn.model_selection import train_test_split\n",
    "from sklearn.metrics import mean_squared_error\n",
    "from matplotlib import pyplot as plt\n",
    "import numpy as np\n",
    "from random import randrange\n",
    "from math import sqrt\n",
    "from math import exp\n",
    "from math import pi\n",
    "%matplotlib inline\n",
    "\n",
    "data = pd.read_csv(\"multiclass_data.csv\", header = None)\n",
    "X = data.loc[:, 0:4]\n",
    "y = data.loc[:,5]\n",
    "\n",
    "X_train, X_test, y_train, y_test = train_test_split(X, y, test_size=0.33, random_state=42)\n",
    "\n",
    "X_train = X_train.values.tolist()\n",
    "X_test = X_test.values.tolist()\n",
    "y_train = y_train.values.tolist()\n",
    "y_test = y_test.values.tolist()"
   ]
  },
  {
   "cell_type": "markdown",
   "metadata": {},
   "source": [
    "## My Naive Bayes"
   ]
  },
  {
   "cell_type": "code",
   "execution_count": 43,
   "metadata": {},
   "outputs": [
    {
     "name": "stdout",
     "output_type": "stream",
     "text": [
      "Tacnost na testirajucem skupu: 0.9491525423728814\n"
     ]
    }
   ],
   "source": [
    "class Naive_Bayes:\n",
    "\n",
    "    def accuracy_metric(self, y_pred, y_test):\n",
    "        correct = 0\n",
    "        for i in range(len(y_test)):\n",
    "            if y_test[i] == y_pred[i]:\n",
    "                correct += 1\n",
    "        return correct/float(len(y_test))\n",
    "\n",
    "    def mean(numbers):\n",
    "        return sum(numbers)/float(len(numbers))\n",
    "\n",
    "    def stdev(numbers):\n",
    "        avg = mean(numbers)\n",
    "        variance = sum([(x-avg)**2 for x in numbers]) / float(len(numbers)-1)\n",
    "        return sqrt(variance)\n",
    "\n",
    "    def calculate_probability(x, mean, stdev):\n",
    "        exponent = exp(-((x-mean)**2 / (2 * stdev**2 )))\n",
    "        return (1 / (sqrt(2 * pi) * stdev)) * exponent\n",
    "\n",
    "    def calculate_class_probabilities(row):\n",
    "        #ukupan broj odbiraka\n",
    "        total_rows = sum([self.class_metrics[label][0][2] for label in self.class_metrics])\n",
    "        probabilities = dict()\n",
    "\n",
    "        #prolaze se metrike za svaku klasu i racuna se verovatnoca da obrirak pripada toj klasi\n",
    "        for label, metrics in self.class_metrics.items():\n",
    "            probabilities[label] = self.class_metrics[label][0][2]/float(total_rows)\n",
    "            for i in range(len(metrics)):\n",
    "                mean, stdev, _ = metrics[i]\n",
    "                probabilities[label] *= calculate_probability(row[i], mean, stdev)\n",
    "        return probabilities\n",
    "\n",
    "    def predict(self, X_test):\n",
    "        # racunanje predikcija za svaki odbirak (jedan red u test setu)\n",
    "        self.test_set = X_test\n",
    "        actual = [r[-1] for r in self.test_set]\n",
    "        for row in self.test_set:\n",
    "            row[-1] = None\n",
    "            \n",
    "        predictions = list()\n",
    "        for row in self.test_set:\n",
    "            probabilities = calculate_class_probabilities(self.class_metrics, row)\n",
    "            best_label, best_prob = None, -1\n",
    "            # za svaki odbirak se pronalazi najveca verovatnoca da pripada odredjenoj klasi\n",
    "            for label, probability in probabilities.items():\n",
    "                if best_label is None or probability > best_prob:\n",
    "                    best_prob = probability\n",
    "                    best_label = label\n",
    "            predictions.append(best_label)\n",
    "        \n",
    "        return predictions\n",
    "\n",
    "\n",
    "    def fit(self, X_train, y_train):\n",
    "       \n",
    "        # razdvajanje po klasama\n",
    "        separated = dict()\n",
    "        for i in range(len(X_train)):\n",
    "            vector = X_train[i]\n",
    "            class_value = y_train[i]\n",
    "            if (class_value not in separated):\n",
    "                separated[class_value] = list()\n",
    "            separated[class_value].append(vector)\n",
    "\n",
    "        # racunanje srednje vrednosti, standardne devijacije i duzine za svaku od klasa\n",
    "        self.class_metrics = dict()\n",
    "        for class_value, rows in separated.items():\n",
    "            metric = [(mean(column), stdev(column), len(column)) for column in zip(*rows)]\n",
    "            del(metric[-1])\n",
    "            self.class_metrics[class_value] = metric\n",
    "\n",
    "\n",
    "dataset = data\n",
    "nb = Naive_Bayes()\n",
    "nb.fit(X_train, y_train)\n",
    "y_pred = nb.predict(X_test)\n",
    "scores = nb.accuracy_metric(y_pred, y_test)\n",
    "print('Tacnost na testirajucem skupu: %s' % scores)"
   ]
  },
  {
   "cell_type": "markdown",
   "metadata": {},
   "source": [
    "## Built-in Naive Bayes"
   ]
  },
  {
   "cell_type": "code",
   "execution_count": 46,
   "metadata": {},
   "outputs": [
    {
     "data": {
      "text/plain": [
       "0.9491525423728814"
      ]
     },
     "execution_count": 46,
     "metadata": {},
     "output_type": "execute_result"
    }
   ],
   "source": [
    "from sklearn.naive_bayes import GaussianNB\n",
    "from sklearn.metrics import accuracy_score\n",
    "\n",
    "X_train, X_test, y_train, y_test = train_test_split(X, y, test_size=0.33, random_state=42)\n",
    "gnb = GaussianNB()\n",
    "y_pred = gnb.fit(X_train, y_train).predict(X_test)\n",
    "accuracy_score(y_pred, y_test)"
   ]
  }
 ],
 "metadata": {
  "kernelspec": {
   "display_name": "Python 3",
   "language": "python",
   "name": "python3"
  },
  "language_info": {
   "codemirror_mode": {
    "name": "ipython",
    "version": 3
   },
   "file_extension": ".py",
   "mimetype": "text/x-python",
   "name": "python",
   "nbconvert_exporter": "python",
   "pygments_lexer": "ipython3",
   "version": "3.6.5"
  }
 },
 "nbformat": 4,
 "nbformat_minor": 2
}
