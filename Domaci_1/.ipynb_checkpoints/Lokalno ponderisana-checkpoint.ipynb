{
 "cells": [
  {
   "cell_type": "code",
   "execution_count": 15,
   "metadata": {},
   "outputs": [
    {
     "data": {
      "text/plain": [
       "0     90.0\n",
       "1     39.0\n",
       "2    160.0\n",
       "3    101.0\n",
       "4    180.0\n",
       "Name: 5, dtype: float64"
      ]
     },
     "execution_count": 15,
     "metadata": {},
     "output_type": "execute_result"
    }
   ],
   "source": [
    "import pandas as pd \n",
    "\n",
    "data = pd.read_csv(\"data.csv\", header = None)\n",
    "data.head()\n",
    "\n",
    "X = data.loc[:, 0:4]\n",
    "\n",
    "y = data.loc[:, 5]\n",
    "y.head()"
   ]
  },
  {
   "cell_type": "code",
   "execution_count": 16,
   "metadata": {},
   "outputs": [],
   "source": [
    "#skaliranje podataka\n",
    "X = (X - X.mean())/X.std()\n",
    "\n",
    "from sklearn.model_selection import train_test_split\n",
    "import numpy as np\n",
    "\n",
    "X_train, X_test, y_train, y_test = train_test_split(X, y, test_size=0.33, random_state=42)\n",
    "X_train = np.c_[np.ones(len(X_train),dtype='int64'),X_train]\n",
    "X_test = np.c_[np.ones(len(X_test),dtype='int64'),X_test]"
   ]
  },
  {
   "cell_type": "code",
   "execution_count": 125,
   "metadata": {},
   "outputs": [],
   "source": [
    "def cost_function(X, Y, theta):\n",
    "    m = len(Y)\n",
    "    J = np.sum((X.dot(theta) - Y) ** 2)/(2 * m)\n",
    "    return J\n",
    "\n",
    "def pred(X, theta):\n",
    "    return X.dot(theta)\n",
    "\n",
    "def my_mse(y_pred, y_test):\n",
    "    return np.sum((y_pred - y_test)**2)/len(y_pred)\n",
    "\n",
    "def batch_gradient_descent(X, Y, theta, alpha, iterations, xp):\n",
    "    cost_history = [0] * iterations\n",
    "    m = len(Y)\n",
    "    tau = 1\n",
    "    W = np.zeros((m,1))\n",
    "    \n",
    "    for i in range(m):\n",
    "        W[i][0] = np.exp(-(np.linalg.norm(X[i] - xp)/tau)**2/2)\n",
    "    \n",
    "#     print(W)\n",
    "    \n",
    "    for iteration in range(iterations):\n",
    "        h = X.dot(theta) - Y\n",
    "#         print(W.shape)\n",
    "#         print(h.shape)\n",
    "        h = h.reshape(m,1)\n",
    "        wh = W*h\n",
    "#         print(wh.shape)\n",
    "        xwh = X.T.dot(wh)\n",
    "#         print(xwh.shape)\n",
    "        theta = theta - alpha * xwh / m\n",
    "#         print(theta)\n",
    "        #cost = cost_function(X, Y, theta)\n",
    "        #cost_history[iteration] = cost\n",
    "\n",
    "    return theta, cost_history"
   ]
  },
  {
   "cell_type": "code",
   "execution_count": 55,
   "metadata": {},
   "outputs": [
    {
     "data": {
      "text/plain": [
       "(341,)"
      ]
     },
     "execution_count": 55,
     "metadata": {},
     "output_type": "execute_result"
    }
   ],
   "source": [
    "\n",
    "W.shape"
   ]
  },
  {
   "cell_type": "code",
   "execution_count": 32,
   "metadata": {},
   "outputs": [
    {
     "data": {
      "text/plain": [
       "0   -0.215403\n",
       "1    0.149792\n",
       "2   -1.617871\n",
       "3   -1.659438\n",
       "4   -0.406331\n",
       "Name: 1, dtype: float64"
      ]
     },
     "execution_count": 32,
     "metadata": {},
     "output_type": "execute_result"
    }
   ],
   "source": []
  },
  {
   "cell_type": "code",
   "execution_count": 41,
   "metadata": {},
   "outputs": [
    {
     "data": {
      "text/plain": [
       "array([[ 0.72446533, -0.51178067, -0.84956353, -0.55231606, -0.8297463 ],\n",
       "       [-0.21540281,  0.14979152, -1.61787072, -1.65943772, -0.40633055],\n",
       "       [-0.30491406, -0.02279253, -0.08125635, -0.57630503, -1.08379575],\n",
       "       ...,\n",
       "       [-0.12589155,  2.13450806, -0.08125635,  1.70025906, -0.40633055],\n",
       "       [-0.68533687, -1.3459369 , -0.84956353, -1.98976821, -0.74506315],\n",
       "       [-0.34966968, -1.25964487,  0.24143267, -0.12795603,  0.94859984]])"
      ]
     },
     "execution_count": 41,
     "metadata": {},
     "output_type": "execute_result"
    }
   ],
   "source": [
    "X[:-1]"
   ]
  },
  {
   "cell_type": "code",
   "execution_count": 126,
   "metadata": {},
   "outputs": [
    {
     "name": "stdout",
     "output_type": "stream",
     "text": [
      "[20791.8447095]\n"
     ]
    }
   ],
   "source": [
    "# Initial Coefficients\n",
    "\n",
    "alpha = 0.01\n",
    "iter_ = 5000\n",
    "\n",
    "X = data.loc[:, 0:4]\n",
    "\n",
    "y = data.loc[:, 5]\n",
    "\n",
    "X = np.array(X)\n",
    "y = np.array(y)\n",
    "y = y.reshape(len(y),1)\n",
    "X = np.c_[np.ones(len(X),dtype='int64'),X]\n",
    "\n",
    "theta = np.zeros((X_train.shape[1], 1))\n",
    "\n",
    "sum_err = 0\n",
    "for i in range(X.shape[0]):\n",
    "    new_theta, cost_history = batch_gradient_descent(np.concatenate((X[:i], X[i+1:])), np.concatenate((y[:i], y[i+1:])), theta, alpha, iter_, X[i])\n",
    "\n",
    "    y_pred = X[i].dot(new_theta)\n",
    "\n",
    "#     print('PREDIKCIJA')\n",
    "#     print(y_pred)\n",
    "#     print('GT')\n",
    "#     print(y[i])\n",
    "#     print(np.abs(y[i] - y_pred))\n",
    "    sum_err += np.abs(y[i] - y_pred)\n",
    "    \n",
    "print(sum_err)\n",
    "\n",
    "#y_ = pred(X_test,new_theta)\n",
    "\n",
    "#print(my_mse(y_, y_test))"
   ]
  },
  {
   "cell_type": "code",
   "execution_count": 116,
   "metadata": {},
   "outputs": [
    {
     "name": "stdout",
     "output_type": "stream",
     "text": [
      "[17359.04841797]\n"
     ]
    }
   ],
   "source": [
    "print(sum_err)"
   ]
  },
  {
   "cell_type": "code",
   "execution_count": 127,
   "metadata": {},
   "outputs": [
    {
     "data": {
      "text/plain": [
       "342"
      ]
     },
     "execution_count": 127,
     "metadata": {},
     "output_type": "execute_result"
    }
   ],
   "source": [
    "X.shape[0]"
   ]
  },
  {
   "cell_type": "code",
   "execution_count": 113,
   "metadata": {},
   "outputs": [
    {
     "data": {
      "text/plain": [
       "(341, 6)"
      ]
     },
     "execution_count": 113,
     "metadata": {},
     "output_type": "execute_result"
    }
   ],
   "source": [
    "i = 5\n",
    "np.concatenate((X[:i], X[i+1:]))"
   ]
  },
  {
   "cell_type": "code",
   "execution_count": 103,
   "metadata": {},
   "outputs": [
    {
     "name": "stdout",
     "output_type": "stream",
     "text": [
      "(2051,)\n"
     ]
    },
    {
     "ename": "ValueError",
     "evalue": "cannot reshape array of size 2050 into shape (2050,5)",
     "output_type": "error",
     "traceback": [
      "\u001b[1;31m---------------------------------------------------------------------------\u001b[0m",
      "\u001b[1;31mValueError\u001b[0m                                Traceback (most recent call last)",
      "\u001b[1;32m<ipython-input-103-62a0d663ff64>\u001b[0m in \u001b[0;36m<module>\u001b[1;34m()\u001b[0m\n\u001b[0;32m      1\u001b[0m \u001b[0mprint\u001b[0m\u001b[1;33m(\u001b[0m\u001b[0mX\u001b[0m\u001b[1;33m.\u001b[0m\u001b[0mshape\u001b[0m\u001b[1;33m)\u001b[0m\u001b[1;33m\u001b[0m\u001b[0m\n\u001b[0;32m      2\u001b[0m \u001b[0mm\u001b[0m \u001b[1;33m=\u001b[0m \u001b[0mX\u001b[0m\u001b[1;33m.\u001b[0m\u001b[0mshape\u001b[0m\u001b[1;33m[\u001b[0m\u001b[1;36m0\u001b[0m\u001b[1;33m]\u001b[0m\u001b[1;33m\u001b[0m\u001b[0m\n\u001b[1;32m----> 3\u001b[1;33m \u001b[0mX\u001b[0m \u001b[1;33m=\u001b[0m \u001b[0mnp\u001b[0m\u001b[1;33m.\u001b[0m\u001b[0mdelete\u001b[0m\u001b[1;33m(\u001b[0m\u001b[0mX\u001b[0m\u001b[1;33m,\u001b[0m\u001b[1;36m1\u001b[0m\u001b[1;33m)\u001b[0m\u001b[1;33m.\u001b[0m\u001b[0mreshape\u001b[0m\u001b[1;33m(\u001b[0m\u001b[0mm\u001b[0m\u001b[1;33m-\u001b[0m\u001b[1;36m1\u001b[0m\u001b[1;33m,\u001b[0m\u001b[1;36m5\u001b[0m\u001b[1;33m)\u001b[0m\u001b[1;33m\u001b[0m\u001b[0m\n\u001b[0m\u001b[0;32m      4\u001b[0m \u001b[0mprint\u001b[0m\u001b[1;33m(\u001b[0m\u001b[0mX\u001b[0m\u001b[1;33m.\u001b[0m\u001b[0mshape\u001b[0m\u001b[1;33m)\u001b[0m\u001b[1;33m\u001b[0m\u001b[0m\n",
      "\u001b[1;31mValueError\u001b[0m: cannot reshape array of size 2050 into shape (2050,5)"
     ]
    }
   ],
   "source": [
    "print(X.shape)\n",
    "m = X.shape[0]\n",
    "X = np.delete(X,1).reshape(m-1,5)\n",
    "print(X.shape)"
   ]
  }
 ],
 "metadata": {
  "kernelspec": {
   "display_name": "Python 3",
   "language": "python",
   "name": "python3"
  },
  "language_info": {
   "codemirror_mode": {
    "name": "ipython",
    "version": 3
   },
   "file_extension": ".py",
   "mimetype": "text/x-python",
   "name": "python",
   "nbconvert_exporter": "python",
   "pygments_lexer": "ipython3",
   "version": "3.6.5"
  }
 },
 "nbformat": 4,
 "nbformat_minor": 2
}
